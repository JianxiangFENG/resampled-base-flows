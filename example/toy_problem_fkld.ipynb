{
 "cells": [
  {
   "cell_type": "markdown",
   "metadata": {},
   "source": [
    "# Application of a Normalizing Flow with a Resampled Base Distribution on a Toy Problem"
   ]
  },
  {
   "cell_type": "code",
   "execution_count": null,
   "metadata": {},
   "outputs": [],
   "source": [
    "# Import packages\n",
    "import numpy as np\n",
    "import torch\n",
    "import normflow as nf\n",
    "import larsflow as lf\n",
    "\n",
    "from sklearn.datasets import make_moons\n",
    "\n",
    "from matplotlib import pyplot as plt\n",
    "\n",
    "from tqdm import tqdm"
   ]
  },
  {
   "cell_type": "code",
   "execution_count": null,
   "metadata": {},
   "outputs": [],
   "source": [
    "# Plot target distribution\n",
    "grid_size = 300\n",
    "noise = .05\n",
    "\n",
    "x_np, _ = make_moons(2 ** 20, noise=noise)\n",
    "plt.figure(figsize=(15, 15))\n",
    "plt.hist2d(x_np[:, 0], x_np[:, 1], (grid_size, grid_size), range=[[-3, 3], [-3, 3]])\n",
    "plt.gca().set_aspect('equal')\n",
    "plt.gca().tick_params(axis='both', which='major', labelsize=24)\n",
    "plt.xlabel('$x_1$', fontsize=32)\n",
    "plt.ylabel('$x_2$', fontsize=32)\n",
    "#plt.savefig('target.png')\n",
    "plt.show()"
   ]
  },
  {
   "cell_type": "markdown",
   "metadata": {},
   "source": [
    "## Train Flow with Gaussian Base Distribution"
   ]
  },
  {
   "cell_type": "code",
   "execution_count": null,
   "metadata": {},
   "outputs": [],
   "source": [
    "# Set up model\n",
    "\n",
    "# Define flows\n",
    "K = 8\n",
    "torch.manual_seed(0)\n",
    "np.random.seed(0)\n",
    "\n",
    "latent_size = 2\n",
    "b = torch.Tensor([1 if i % 2 == 0 else 0 for i in range(latent_size)])\n",
    "flows = []\n",
    "for i in range(K):\n",
    "    param_map = nf.nets.MLP([latent_size // 2, 64, 64, latent_size], init_zeros=True)\n",
    "    flows += [nf.flows.AffineCouplingBlock(param_map)]\n",
    "    flows += [nf.flows.Permute(latent_size, mode='swap')]\n",
    "    flows += [nf.flows.ActNorm(latent_size)]\n",
    "\n",
    "# Set prior and q0\n",
    "q0 = nf.distributions.DiagGaussian(latent_size, trainable=False)\n",
    "\n",
    "# Construct flow model\n",
    "model = lf.NormalizingFlow(q0=q0, flows=flows)\n",
    "\n",
    "# Move model on GPU if available\n",
    "enable_cuda = True\n",
    "device = torch.device('cuda' if torch.cuda.is_available() and enable_cuda else 'cpu')\n",
    "model = model.to(device)"
   ]
  },
  {
   "cell_type": "code",
   "execution_count": null,
   "metadata": {},
   "outputs": [],
   "source": [
    "# Prepare z grid for evaluation\n",
    "xx, yy = torch.meshgrid(torch.linspace(-3, 3, grid_size), torch.linspace(-3, 3, grid_size))\n",
    "zz = torch.cat([xx.unsqueeze(2), yy.unsqueeze(2)], 2).view(-1, 2)\n",
    "zz = zz.to(device)"
   ]
  },
  {
   "cell_type": "code",
   "execution_count": null,
   "metadata": {
    "scrolled": false
   },
   "outputs": [],
   "source": [
    "# Train model\n",
    "max_iter = 10000\n",
    "num_samples = 2 ** 12\n",
    "show_iter = 500\n",
    "\n",
    "loss_hist = np.array([])\n",
    "Z_hist = np.array([])\n",
    "\n",
    "model.train()\n",
    "\n",
    "# Do mixed precision training\n",
    "optimizer = torch.optim.Adam(model.parameters(), lr=1e-3, weight_decay=1e-2)\n",
    "scaler = torch.cuda.amp.GradScaler()\n",
    "\n",
    "for it in tqdm(range(max_iter)):\n",
    "    x_np, _ = make_moons(num_samples, noise=noise)\n",
    "    x = torch.tensor(x_np).float().to(device, non_blocking=True)\n",
    "    \n",
    "    loss = model.forward_kld(x)\n",
    "    \n",
    "    scaler.scale(loss).backward()\n",
    "    scaler.step(optimizer)\n",
    "    scaler.update()\n",
    "    \n",
    "    loss_hist = np.append(loss_hist, loss.item())\n",
    "\n",
    "    # Clear gradients\n",
    "    nf.utils.clear_grad(model)\n",
    "        \n",
    "\n",
    "plt.figure(figsize=(10, 10))\n",
    "plt.plot(loss_hist, label='loss')\n",
    "plt.legend()\n",
    "plt.show()"
   ]
  },
  {
   "cell_type": "code",
   "execution_count": null,
   "metadata": {
    "scrolled": false
   },
   "outputs": [],
   "source": [
    "model.eval()\n",
    "log_prob = model.log_prob(zz).to('cpu').view(*xx.shape)\n",
    "            \n",
    "prob = torch.exp(log_prob.to('cpu').view(*xx.shape))\n",
    "prob[torch.isnan(prob)] = 0\n",
    "\n",
    "plt.figure(figsize=(15, 15))\n",
    "plt.pcolormesh(xx, yy, prob.data.numpy())\n",
    "plt.gca().set_aspect('equal')\n",
    "plt.gca().tick_params(axis='both', which='major', labelsize=24)\n",
    "plt.xlabel('$x_1$', fontsize=32)\n",
    "plt.ylabel('$x_2$', fontsize=32)\n",
    "#plt.savefig('rnvp.png')\n",
    "plt.show()\n",
    "\n",
    "log_prob = model.q0.log_prob(zz).to('cpu').view(*xx.shape)\n",
    "prob = torch.exp(log_prob)\n",
    "prob[torch.isnan(prob)] = 0\n",
    "\n",
    "plt.figure(figsize=(15, 15))\n",
    "plt.pcolormesh(xx, yy, prob.data.numpy())\n",
    "plt.gca().set_aspect('equal')\n",
    "plt.gca().tick_params(axis='both', which='major', labelsize=24)\n",
    "plt.xlabel('$x_1$', fontsize=32)\n",
    "plt.ylabel('$x_2$', fontsize=32)\n",
    "#plt.savefig('base.png')\n",
    "plt.show()"
   ]
  },
  {
   "cell_type": "markdown",
   "metadata": {},
   "source": [
    "## Train Flow with Resampled Base Distribution"
   ]
  },
  {
   "cell_type": "code",
   "execution_count": null,
   "metadata": {},
   "outputs": [],
   "source": [
    "# Set up model\n",
    "\n",
    "# Define flows\n",
    "torch.manual_seed(0)\n",
    "np.random.seed(0)\n",
    "\n",
    "flows = []\n",
    "for i in range(K):\n",
    "    param_map = nf.nets.MLP([latent_size // 2, 64, 64, latent_size], init_zeros=True)\n",
    "    flows += [nf.flows.AffineCouplingBlock(param_map)]\n",
    "    flows += [nf.flows.Permute(latent_size, mode='swap')]\n",
    "    flows += [nf.flows.ActNorm(latent_size)]\n",
    "\n",
    "# Set prior and q0\n",
    "a = nf.nets.MLP([latent_size, 64, 64, 1], output_fn=\"sigmoid\")\n",
    "q0 = lf.distributions.ResampledGaussian(latent_size, a, 100, 0.1, trainable=False)\n",
    "\n",
    "# Construct flow model\n",
    "model = lf.NormalizingFlow(q0=q0, flows=flows)\n",
    "\n",
    "# Move model on GPU if available\n",
    "model = model.to(device)"
   ]
  },
  {
   "cell_type": "code",
   "execution_count": null,
   "metadata": {},
   "outputs": [],
   "source": [
    "# Train model\n",
    "\n",
    "loss_hist = np.array([])\n",
    "Z_hist = np.array([])\n",
    "\n",
    "model.train()\n",
    "\n",
    "# Do mixed precision training\n",
    "optimizer = torch.optim.Adam(model.parameters(), lr=1e-3, weight_decay=1e-4)\n",
    "scaler = torch.cuda.amp.GradScaler()\n",
    "\n",
    "for it in tqdm(range(max_iter)):\n",
    "    x_np, _ = make_moons(num_samples, noise=noise)\n",
    "    x = torch.tensor(x_np).float().to(device, non_blocking=True)\n",
    "    \n",
    "    loss = model.forward_kld(x)\n",
    "    \n",
    "    scaler.scale(loss).backward()\n",
    "    scaler.step(optimizer)\n",
    "    scaler.update()\n",
    "    \n",
    "    loss_hist = np.append(loss_hist, loss.item())\n",
    "    Z_hist = np.append(Z_hist, model.q0.Z.item())\n",
    "\n",
    "    # Clear gradients\n",
    "    nf.utils.clear_grad(model)\n",
    "        \n",
    "\n",
    "plt.figure(figsize=(10, 10))\n",
    "plt.plot(loss_hist, label='loss')\n",
    "plt.legend()\n",
    "plt.show()\n",
    "\n",
    "plt.figure(figsize=(10, 10))\n",
    "plt.plot(Z_hist, label='Z')\n",
    "plt.legend()\n",
    "plt.show()"
   ]
  },
  {
   "cell_type": "code",
   "execution_count": null,
   "metadata": {
    "scrolled": false
   },
   "outputs": [],
   "source": [
    "model.eval();\n",
    "        \n",
    "log_prob = model.log_prob(zz).to('cpu').view(*xx.shape)\n",
    "            \n",
    "prob = torch.exp(log_prob.to('cpu').view(*xx.shape))\n",
    "prob[torch.isnan(prob)] = 0\n",
    "\n",
    "plt.figure(figsize=(15, 15))\n",
    "plt.pcolormesh(xx, yy, prob.data.numpy())\n",
    "plt.gca().set_aspect('equal')\n",
    "plt.gca().tick_params(axis='both', which='major', labelsize=24)\n",
    "plt.xlabel('$x_1$', fontsize=32)\n",
    "plt.ylabel('$x_2$', fontsize=32)\n",
    "#plt.savefig('resampled_rnvp.png')\n",
    "plt.show()\n",
    "\n",
    "log_prob = model.q0.log_prob(zz).to('cpu').view(*xx.shape)\n",
    "prob = torch.exp(log_prob)\n",
    "prob[torch.isnan(prob)] = 0\n",
    "\n",
    "plt.figure(figsize=(15, 15))\n",
    "plt.pcolormesh(xx, yy, prob.data.numpy())\n",
    "plt.gca().set_aspect('equal')\n",
    "plt.gca().tick_params(axis='both', which='major', labelsize=24)\n",
    "plt.xlabel('$x_1$', fontsize=32)\n",
    "plt.ylabel('$x_2$', fontsize=32)\n",
    "#plt.savefig('resampled_base.png')\n",
    "plt.show()\n",
    "        \n",
    "prob = model.q0.a(zz).to('cpu').view(*xx.shape)\n",
    "prob[torch.isnan(prob)] = 0\n",
    "\n",
    "plt.figure(figsize=(15, 15))\n",
    "plt.pcolormesh(xx, yy, prob.data.numpy())\n",
    "plt.gca().set_aspect('equal')\n",
    "plt.gca().tick_params(axis='both', which='major', labelsize=24)\n",
    "plt.xlabel('$x_1$', fontsize=32)\n",
    "plt.ylabel('$x_2$', fontsize=32)\n",
    "plt.colorbar()\n",
    "#plt.savefig('resampled_base_a.png')\n",
    "plt.show()\n",
    "                \n",
    "model.train();"
   ]
  },
  {
   "cell_type": "code",
   "execution_count": null,
   "metadata": {},
   "outputs": [],
   "source": []
  }
 ],
 "metadata": {
  "kernelspec": {
   "display_name": "Python 3",
   "language": "python",
   "name": "python3"
  },
  "language_info": {
   "codemirror_mode": {
    "name": "ipython",
    "version": 3
   },
   "file_extension": ".py",
   "mimetype": "text/x-python",
   "name": "python",
   "nbconvert_exporter": "python",
   "pygments_lexer": "ipython3",
   "version": "3.7.7"
  }
 },
 "nbformat": 4,
 "nbformat_minor": 4
}
